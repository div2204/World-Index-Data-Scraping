{
 "cells": [
  {
   "cell_type": "code",
   "execution_count": null,
   "id": "285f54b9-c46f-49ad-8ca6-bd7151c3e874",
   "metadata": {},
   "outputs": [],
   "source": []
  },
  {
   "cell_type": "code",
   "execution_count": 2,
   "id": "4e800571-7935-4c10-8337-647f57dd6295",
   "metadata": {},
   "outputs": [],
   "source": [
    "from bs4 import BeautifulSoup\n",
    "import requests #http request making lib\n",
    "import datetime \n",
    "import smtplib #simple mail transfer protocol lib\n",
    "import time\n",
    "import pandas as pd"
   ]
  },
  {
   "cell_type": "markdown",
   "id": "6709f9d2-45ca-4d31-bab7-9e64cfb7a221",
   "metadata": {},
   "source": [
    "#### Connect To A Website"
   ]
  },
  {
   "cell_type": "code",
   "execution_count": 3,
   "id": "ba6ab6fc-3108-4367-a37b-685d6e38c547",
   "metadata": {},
   "outputs": [],
   "source": [
    "URL = 'https://finance.yahoo.com/quote/%5EXDB/'\n",
    "headers = {\"User-Agent\": \"Mozilla/5.0 (Windows NT 10.0; Win64; x64) AppleWebKit/537.36 (KHTML, like Gecko) Chrome/126.0.0.0 Safari/537.36\"}"
   ]
  },
  {
   "cell_type": "code",
   "execution_count": 4,
   "id": "2ac35cf8-c519-4fd2-8d5f-9f1c2cb0fa1c",
   "metadata": {},
   "outputs": [],
   "source": [
    "\n",
    "page = requests.get(URL, headers = headers)\n",
    "soup = BeautifulSoup(page.text, 'html')\n",
    "soup = BeautifulSoup(soup.prettify(), 'html')\n"
   ]
  },
  {
   "cell_type": "code",
   "execution_count": 5,
   "id": "0e23fa5d-a8b3-4a58-b564-ff03b29f22bd",
   "metadata": {},
   "outputs": [
    {
     "data": {
      "text/plain": [
       "'129.79'"
      ]
     },
     "execution_count": 5,
     "metadata": {},
     "output_type": "execute_result"
    }
   ],
   "source": [
    "Price = soup.find(class_ = 'livePrice svelte-mgkamr').text\n",
    "Price.strip()"
   ]
  },
  {
   "cell_type": "code",
   "execution_count": 6,
   "id": "a44b89b8-8939-4a70-aeb7-f21e06271cef",
   "metadata": {},
   "outputs": [
    {
     "data": {
      "text/plain": [
       "'+0.68'"
      ]
     },
     "execution_count": 6,
     "metadata": {},
     "output_type": "execute_result"
    }
   ],
   "source": [
    "Change = soup.find(class_ =\"priceChange svelte-mgkamr\").text\n",
    "Change = Change.strip()\n",
    "Change"
   ]
  },
  {
   "cell_type": "code",
   "execution_count": 7,
   "id": "d096bd13-1daa-4a18-a1a9-2e3a4685f67b",
   "metadata": {},
   "outputs": [
    {
     "data": {
      "text/plain": [
       "'(+0.53%)'"
      ]
     },
     "execution_count": 7,
     "metadata": {},
     "output_type": "execute_result"
    }
   ],
   "source": [
    "Percent_Change = soup.find_all(class_ = 'priceChange svelte-mgkamr')[1].text.strip()\n",
    "Percent_Change\n"
   ]
  },
  {
   "cell_type": "markdown",
   "id": "a981d2d8-2484-41e8-814f-5d542b3acf77",
   "metadata": {},
   "source": [
    "##### This is a verification of getting our data from the web\n",
    "##### Now I'll Create a function"
   ]
  },
  {
   "cell_type": "code",
   "execution_count": 8,
   "id": "b4f458e0-e9c0-4e87-8403-426b84468697",
   "metadata": {},
   "outputs": [],
   "source": [
    "def get_data(index):\n",
    "    URL = f'https://finance.yahoo.com/quote/%5E{index}/'\n",
    "    headers = {\"User-Agent\": \"Mozilla/5.0 (Windows NT 10.0; Win64; x64) AppleWebKit/537.36 (KHTML, like Gecko) Chrome/126.0.0.0 Safari/537.36\"}\n",
    "    \n",
    "    page = requests.get(URL, headers = headers)\n",
    "    soup = BeautifulSoup(page.text, 'html')\n",
    "    soup = BeautifulSoup(soup.prettify(), 'html')\n",
    "\n",
    "    Change = soup.find(class_ =\"priceChange svelte-mgkamr\").text.strip()\n",
    "    \n",
    "    Price = soup.find(class_='livePrice svelte-mgkamr').text.strip()\n",
    "        \n",
    "    Percent_Change = soup.find_all(class_ = 'priceChange svelte-mgkamr')[1].text.strip()\n",
    "\n",
    "    Stock = [Price, Change, Percent_Change]\n",
    "\n",
    "    return Stock"
   ]
  },
  {
   "cell_type": "markdown",
   "id": "c4a122b0-0d7d-45ac-affa-3b0991217e45",
   "metadata": {},
   "source": [
    "### Making a list of known world indices"
   ]
  },
  {
   "cell_type": "code",
   "execution_count": 9,
   "id": "b23b2619-9d8a-42b8-8f6b-70715366594a",
   "metadata": {},
   "outputs": [],
   "source": [
    "list = ['GSPC', 'DJI', 'IXIC', 'NYA', 'XAX', 'BUK100P', 'RUT', 'VIX', 'FTSE', 'STOXX50E', 'XDB', 'XDE', 'XDN', 'XDA']"
   ]
  },
  {
   "cell_type": "code",
   "execution_count": 10,
   "id": "bd0fa6d2-f528-4cc0-84c8-ef40ca4483b6",
   "metadata": {},
   "outputs": [
    {
     "data": {
      "text/plain": [
       "['63.35', '+0.41', '(+0.65%)']"
      ]
     },
     "execution_count": 10,
     "metadata": {},
     "output_type": "execute_result"
    }
   ],
   "source": [
    "get_data('XDN')"
   ]
  },
  {
   "cell_type": "markdown",
   "id": "7614a27d-4eaa-4324-b0ac-d89ef6dee4b6",
   "metadata": {},
   "source": [
    "### Making a Data Frame"
   ]
  },
  {
   "cell_type": "code",
   "execution_count": 11,
   "id": "ef79fac2-5459-41e4-a6a0-8ecac445c985",
   "metadata": {},
   "outputs": [],
   "source": [
    "df = pd.DataFrame(columns=['Index','Price (USD)', 'Change', 'Change %'])\n",
    "\n",
    "for index in list:\n",
    "    data = get_data(index)\n",
    "    data.insert(0, index)\n",
    "    df.loc[len(df)] = data"
   ]
  },
  {
   "cell_type": "code",
   "execution_count": 12,
   "id": "94009ca4-d844-429a-a1a3-e448fb3a849e",
   "metadata": {},
   "outputs": [
    {
     "data": {
      "text/html": [
       "<div>\n",
       "<style scoped>\n",
       "    .dataframe tbody tr th:only-of-type {\n",
       "        vertical-align: middle;\n",
       "    }\n",
       "\n",
       "    .dataframe tbody tr th {\n",
       "        vertical-align: top;\n",
       "    }\n",
       "\n",
       "    .dataframe thead th {\n",
       "        text-align: right;\n",
       "    }\n",
       "</style>\n",
       "<table border=\"1\" class=\"dataframe\">\n",
       "  <thead>\n",
       "    <tr style=\"text-align: right;\">\n",
       "      <th></th>\n",
       "      <th>Index</th>\n",
       "      <th>Price (USD)</th>\n",
       "      <th>Change</th>\n",
       "      <th>Change %</th>\n",
       "    </tr>\n",
       "  </thead>\n",
       "  <tbody>\n",
       "    <tr>\n",
       "      <th>0</th>\n",
       "      <td>GSPC</td>\n",
       "      <td>5,615.35</td>\n",
       "      <td>+30.81</td>\n",
       "      <td>(+0.55%)</td>\n",
       "    </tr>\n",
       "    <tr>\n",
       "      <th>1</th>\n",
       "      <td>DJI</td>\n",
       "      <td>40,000.90</td>\n",
       "      <td>+247.15</td>\n",
       "      <td>(+0.62%)</td>\n",
       "    </tr>\n",
       "    <tr>\n",
       "      <th>2</th>\n",
       "      <td>IXIC</td>\n",
       "      <td>18,398.45</td>\n",
       "      <td>+115.04</td>\n",
       "      <td>(+0.63%)</td>\n",
       "    </tr>\n",
       "    <tr>\n",
       "      <th>3</th>\n",
       "      <td>NYA</td>\n",
       "      <td>18,505.92</td>\n",
       "      <td>+126.18</td>\n",
       "      <td>(+0.69%)</td>\n",
       "    </tr>\n",
       "    <tr>\n",
       "      <th>4</th>\n",
       "      <td>XAX</td>\n",
       "      <td>5,042.80</td>\n",
       "      <td>+36.53</td>\n",
       "      <td>(+0.73%)</td>\n",
       "    </tr>\n",
       "    <tr>\n",
       "      <th>5</th>\n",
       "      <td>BUK100P</td>\n",
       "      <td>823.70</td>\n",
       "      <td>+3.06</td>\n",
       "      <td>(+0.37%)</td>\n",
       "    </tr>\n",
       "    <tr>\n",
       "      <th>6</th>\n",
       "      <td>RUT</td>\n",
       "      <td>2,148.27</td>\n",
       "      <td>+23.23</td>\n",
       "      <td>(+1.09%)</td>\n",
       "    </tr>\n",
       "    <tr>\n",
       "      <th>7</th>\n",
       "      <td>VIX</td>\n",
       "      <td>12.46</td>\n",
       "      <td>-0.46</td>\n",
       "      <td>(-3.56%)</td>\n",
       "    </tr>\n",
       "    <tr>\n",
       "      <th>8</th>\n",
       "      <td>FTSE</td>\n",
       "      <td>8,252.91</td>\n",
       "      <td>+29.57</td>\n",
       "      <td>(+0.36%)</td>\n",
       "    </tr>\n",
       "    <tr>\n",
       "      <th>9</th>\n",
       "      <td>STOXX50E</td>\n",
       "      <td>5,043.02</td>\n",
       "      <td>+66.89</td>\n",
       "      <td>(+1.34%)</td>\n",
       "    </tr>\n",
       "    <tr>\n",
       "      <th>10</th>\n",
       "      <td>XDB</td>\n",
       "      <td>129.79</td>\n",
       "      <td>+0.68</td>\n",
       "      <td>(+0.53%)</td>\n",
       "    </tr>\n",
       "    <tr>\n",
       "      <th>11</th>\n",
       "      <td>XDE</td>\n",
       "      <td>109.07</td>\n",
       "      <td>+0.39</td>\n",
       "      <td>(+0.36%)</td>\n",
       "    </tr>\n",
       "    <tr>\n",
       "      <th>12</th>\n",
       "      <td>XDN</td>\n",
       "      <td>63.35</td>\n",
       "      <td>+0.41</td>\n",
       "      <td>(+0.65%)</td>\n",
       "    </tr>\n",
       "    <tr>\n",
       "      <th>13</th>\n",
       "      <td>XDA</td>\n",
       "      <td>67.66</td>\n",
       "      <td>+0.07</td>\n",
       "      <td>(+0.10%)</td>\n",
       "    </tr>\n",
       "  </tbody>\n",
       "</table>\n",
       "</div>"
      ],
      "text/plain": [
       "       Index Price (USD)   Change  Change %\n",
       "0       GSPC    5,615.35   +30.81  (+0.55%)\n",
       "1        DJI   40,000.90  +247.15  (+0.62%)\n",
       "2       IXIC   18,398.45  +115.04  (+0.63%)\n",
       "3        NYA   18,505.92  +126.18  (+0.69%)\n",
       "4        XAX    5,042.80   +36.53  (+0.73%)\n",
       "5    BUK100P      823.70    +3.06  (+0.37%)\n",
       "6        RUT    2,148.27   +23.23  (+1.09%)\n",
       "7        VIX       12.46    -0.46  (-3.56%)\n",
       "8       FTSE    8,252.91   +29.57  (+0.36%)\n",
       "9   STOXX50E    5,043.02   +66.89  (+1.34%)\n",
       "10       XDB      129.79    +0.68  (+0.53%)\n",
       "11       XDE      109.07    +0.39  (+0.36%)\n",
       "12       XDN       63.35    +0.41  (+0.65%)\n",
       "13       XDA       67.66    +0.07  (+0.10%)"
      ]
     },
     "execution_count": 12,
     "metadata": {},
     "output_type": "execute_result"
    }
   ],
   "source": [
    "df"
   ]
  },
  {
   "cell_type": "markdown",
   "id": "ca2677c9-dc51-4cda-aa41-d31909a38896",
   "metadata": {},
   "source": [
    "### Defining a timeline for the operation to gather data for predictive analysis"
   ]
  },
  {
   "cell_type": "code",
   "execution_count": 13,
   "id": "5dea456d-6a96-4f09-9f6e-4083a336c95f",
   "metadata": {},
   "outputs": [],
   "source": [
    "df2 = pd.DataFrame(columns=['Date','Index','Price (USD)', 'Change', 'Change %'])  \n",
    "\n",
    "\n",
    "#list of indices we're targeting\n",
    "list = ['GSPC', 'DJI', 'IXIC', 'NYA', 'XAX', 'BUK100P', 'RUT', 'VIX', 'FTSE', 'STOXX50E', 'XDB', 'XDE', 'XDN', 'XDA']\n",
    " \n"
   ]
  },
  {
   "cell_type": "code",
   "execution_count": 14,
   "id": "a7be4d3d-8b6e-40d9-a8bf-bca13ab77587",
   "metadata": {},
   "outputs": [],
   "source": [
    "def gather_data():\n",
    "    \n",
    "    for index in list: \n",
    "        \n",
    "        today = datetime.date.today()\n",
    "        \n",
    "        data = get_data(index)\n",
    "        data.insert(0, today)\n",
    "        data.insert(0, index)\n",
    "        df2.loc[len(df)] = data"
   ]
  },
  {
   "cell_type": "code",
   "execution_count": 15,
   "id": "efea7cd9-ead2-4e43-8aa2-c47954213e3a",
   "metadata": {},
   "outputs": [
    {
     "ename": "PermissionError",
     "evalue": "[Errno 13] Permission denied: 'C:\\\\Users\\\\hp\\\\Desktop\\\\Web Scraping\\\\index_data.csv'",
     "output_type": "error",
     "traceback": [
      "\u001b[1;31m---------------------------------------------------------------------------\u001b[0m",
      "\u001b[1;31mPermissionError\u001b[0m                           Traceback (most recent call last)",
      "Cell \u001b[1;32mIn[15], line 3\u001b[0m\n\u001b[0;32m      1\u001b[0m \u001b[38;5;28;01mwhile\u001b[39;00m \u001b[38;5;28;01mTrue\u001b[39;00m:\n\u001b[0;32m      2\u001b[0m     gather_data()\n\u001b[1;32m----> 3\u001b[0m     df\u001b[38;5;241m.\u001b[39mto_csv(\u001b[38;5;124mr\u001b[39m\u001b[38;5;124m\"\u001b[39m\u001b[38;5;124mC:\u001b[39m\u001b[38;5;124m\\\u001b[39m\u001b[38;5;124mUsers\u001b[39m\u001b[38;5;124m\\\u001b[39m\u001b[38;5;124mhp\u001b[39m\u001b[38;5;124m\\\u001b[39m\u001b[38;5;124mDesktop\u001b[39m\u001b[38;5;124m\\\u001b[39m\u001b[38;5;124mWeb Scraping\u001b[39m\u001b[38;5;124m\\\u001b[39m\u001b[38;5;124mindex_data.csv\u001b[39m\u001b[38;5;124m\"\u001b[39m, index\u001b[38;5;241m=\u001b[39m\u001b[38;5;28;01mFalse\u001b[39;00m)\n\u001b[0;32m      4\u001b[0m     \u001b[38;5;28mprint\u001b[39m(\u001b[38;5;124m\"\u001b[39m\u001b[38;5;124mData gathered and saved.\u001b[39m\u001b[38;5;124m\"\u001b[39m)\n\u001b[0;32m      5\u001b[0m     time\u001b[38;5;241m.\u001b[39msleep(\u001b[38;5;241m86400\u001b[39m)\n",
      "File \u001b[1;32m~\\anaconda3\\Lib\\site-packages\\pandas\\core\\generic.py:3902\u001b[0m, in \u001b[0;36mNDFrame.to_csv\u001b[1;34m(self, path_or_buf, sep, na_rep, float_format, columns, header, index, index_label, mode, encoding, compression, quoting, quotechar, lineterminator, chunksize, date_format, doublequote, escapechar, decimal, errors, storage_options)\u001b[0m\n\u001b[0;32m   3891\u001b[0m df \u001b[38;5;241m=\u001b[39m \u001b[38;5;28mself\u001b[39m \u001b[38;5;28;01mif\u001b[39;00m \u001b[38;5;28misinstance\u001b[39m(\u001b[38;5;28mself\u001b[39m, ABCDataFrame) \u001b[38;5;28;01melse\u001b[39;00m \u001b[38;5;28mself\u001b[39m\u001b[38;5;241m.\u001b[39mto_frame()\n\u001b[0;32m   3893\u001b[0m formatter \u001b[38;5;241m=\u001b[39m DataFrameFormatter(\n\u001b[0;32m   3894\u001b[0m     frame\u001b[38;5;241m=\u001b[39mdf,\n\u001b[0;32m   3895\u001b[0m     header\u001b[38;5;241m=\u001b[39mheader,\n\u001b[1;32m   (...)\u001b[0m\n\u001b[0;32m   3899\u001b[0m     decimal\u001b[38;5;241m=\u001b[39mdecimal,\n\u001b[0;32m   3900\u001b[0m )\n\u001b[1;32m-> 3902\u001b[0m \u001b[38;5;28;01mreturn\u001b[39;00m DataFrameRenderer(formatter)\u001b[38;5;241m.\u001b[39mto_csv(\n\u001b[0;32m   3903\u001b[0m     path_or_buf,\n\u001b[0;32m   3904\u001b[0m     lineterminator\u001b[38;5;241m=\u001b[39mlineterminator,\n\u001b[0;32m   3905\u001b[0m     sep\u001b[38;5;241m=\u001b[39msep,\n\u001b[0;32m   3906\u001b[0m     encoding\u001b[38;5;241m=\u001b[39mencoding,\n\u001b[0;32m   3907\u001b[0m     errors\u001b[38;5;241m=\u001b[39merrors,\n\u001b[0;32m   3908\u001b[0m     compression\u001b[38;5;241m=\u001b[39mcompression,\n\u001b[0;32m   3909\u001b[0m     quoting\u001b[38;5;241m=\u001b[39mquoting,\n\u001b[0;32m   3910\u001b[0m     columns\u001b[38;5;241m=\u001b[39mcolumns,\n\u001b[0;32m   3911\u001b[0m     index_label\u001b[38;5;241m=\u001b[39mindex_label,\n\u001b[0;32m   3912\u001b[0m     mode\u001b[38;5;241m=\u001b[39mmode,\n\u001b[0;32m   3913\u001b[0m     chunksize\u001b[38;5;241m=\u001b[39mchunksize,\n\u001b[0;32m   3914\u001b[0m     quotechar\u001b[38;5;241m=\u001b[39mquotechar,\n\u001b[0;32m   3915\u001b[0m     date_format\u001b[38;5;241m=\u001b[39mdate_format,\n\u001b[0;32m   3916\u001b[0m     doublequote\u001b[38;5;241m=\u001b[39mdoublequote,\n\u001b[0;32m   3917\u001b[0m     escapechar\u001b[38;5;241m=\u001b[39mescapechar,\n\u001b[0;32m   3918\u001b[0m     storage_options\u001b[38;5;241m=\u001b[39mstorage_options,\n\u001b[0;32m   3919\u001b[0m )\n",
      "File \u001b[1;32m~\\anaconda3\\Lib\\site-packages\\pandas\\io\\formats\\format.py:1152\u001b[0m, in \u001b[0;36mDataFrameRenderer.to_csv\u001b[1;34m(self, path_or_buf, encoding, sep, columns, index_label, mode, compression, quoting, quotechar, lineterminator, chunksize, date_format, doublequote, escapechar, errors, storage_options)\u001b[0m\n\u001b[0;32m   1131\u001b[0m     created_buffer \u001b[38;5;241m=\u001b[39m \u001b[38;5;28;01mFalse\u001b[39;00m\n\u001b[0;32m   1133\u001b[0m csv_formatter \u001b[38;5;241m=\u001b[39m CSVFormatter(\n\u001b[0;32m   1134\u001b[0m     path_or_buf\u001b[38;5;241m=\u001b[39mpath_or_buf,\n\u001b[0;32m   1135\u001b[0m     lineterminator\u001b[38;5;241m=\u001b[39mlineterminator,\n\u001b[1;32m   (...)\u001b[0m\n\u001b[0;32m   1150\u001b[0m     formatter\u001b[38;5;241m=\u001b[39m\u001b[38;5;28mself\u001b[39m\u001b[38;5;241m.\u001b[39mfmt,\n\u001b[0;32m   1151\u001b[0m )\n\u001b[1;32m-> 1152\u001b[0m csv_formatter\u001b[38;5;241m.\u001b[39msave()\n\u001b[0;32m   1154\u001b[0m \u001b[38;5;28;01mif\u001b[39;00m created_buffer:\n\u001b[0;32m   1155\u001b[0m     \u001b[38;5;28;01massert\u001b[39;00m \u001b[38;5;28misinstance\u001b[39m(path_or_buf, StringIO)\n",
      "File \u001b[1;32m~\\anaconda3\\Lib\\site-packages\\pandas\\io\\formats\\csvs.py:247\u001b[0m, in \u001b[0;36mCSVFormatter.save\u001b[1;34m(self)\u001b[0m\n\u001b[0;32m    243\u001b[0m \u001b[38;5;250m\u001b[39m\u001b[38;5;124;03m\"\"\"\u001b[39;00m\n\u001b[0;32m    244\u001b[0m \u001b[38;5;124;03mCreate the writer & save.\u001b[39;00m\n\u001b[0;32m    245\u001b[0m \u001b[38;5;124;03m\"\"\"\u001b[39;00m\n\u001b[0;32m    246\u001b[0m \u001b[38;5;66;03m# apply compression and byte/text conversion\u001b[39;00m\n\u001b[1;32m--> 247\u001b[0m \u001b[38;5;28;01mwith\u001b[39;00m get_handle(\n\u001b[0;32m    248\u001b[0m     \u001b[38;5;28mself\u001b[39m\u001b[38;5;241m.\u001b[39mfilepath_or_buffer,\n\u001b[0;32m    249\u001b[0m     \u001b[38;5;28mself\u001b[39m\u001b[38;5;241m.\u001b[39mmode,\n\u001b[0;32m    250\u001b[0m     encoding\u001b[38;5;241m=\u001b[39m\u001b[38;5;28mself\u001b[39m\u001b[38;5;241m.\u001b[39mencoding,\n\u001b[0;32m    251\u001b[0m     errors\u001b[38;5;241m=\u001b[39m\u001b[38;5;28mself\u001b[39m\u001b[38;5;241m.\u001b[39merrors,\n\u001b[0;32m    252\u001b[0m     compression\u001b[38;5;241m=\u001b[39m\u001b[38;5;28mself\u001b[39m\u001b[38;5;241m.\u001b[39mcompression,\n\u001b[0;32m    253\u001b[0m     storage_options\u001b[38;5;241m=\u001b[39m\u001b[38;5;28mself\u001b[39m\u001b[38;5;241m.\u001b[39mstorage_options,\n\u001b[0;32m    254\u001b[0m ) \u001b[38;5;28;01mas\u001b[39;00m handles:\n\u001b[0;32m    255\u001b[0m     \u001b[38;5;66;03m# Note: self.encoding is irrelevant here\u001b[39;00m\n\u001b[0;32m    256\u001b[0m     \u001b[38;5;28mself\u001b[39m\u001b[38;5;241m.\u001b[39mwriter \u001b[38;5;241m=\u001b[39m csvlib\u001b[38;5;241m.\u001b[39mwriter(\n\u001b[0;32m    257\u001b[0m         handles\u001b[38;5;241m.\u001b[39mhandle,\n\u001b[0;32m    258\u001b[0m         lineterminator\u001b[38;5;241m=\u001b[39m\u001b[38;5;28mself\u001b[39m\u001b[38;5;241m.\u001b[39mlineterminator,\n\u001b[1;32m   (...)\u001b[0m\n\u001b[0;32m    263\u001b[0m         quotechar\u001b[38;5;241m=\u001b[39m\u001b[38;5;28mself\u001b[39m\u001b[38;5;241m.\u001b[39mquotechar,\n\u001b[0;32m    264\u001b[0m     )\n\u001b[0;32m    266\u001b[0m     \u001b[38;5;28mself\u001b[39m\u001b[38;5;241m.\u001b[39m_save()\n",
      "File \u001b[1;32m~\\anaconda3\\Lib\\site-packages\\pandas\\io\\common.py:863\u001b[0m, in \u001b[0;36mget_handle\u001b[1;34m(path_or_buf, mode, encoding, compression, memory_map, is_text, errors, storage_options)\u001b[0m\n\u001b[0;32m    858\u001b[0m \u001b[38;5;28;01melif\u001b[39;00m \u001b[38;5;28misinstance\u001b[39m(handle, \u001b[38;5;28mstr\u001b[39m):\n\u001b[0;32m    859\u001b[0m     \u001b[38;5;66;03m# Check whether the filename is to be opened in binary mode.\u001b[39;00m\n\u001b[0;32m    860\u001b[0m     \u001b[38;5;66;03m# Binary mode does not support 'encoding' and 'newline'.\u001b[39;00m\n\u001b[0;32m    861\u001b[0m     \u001b[38;5;28;01mif\u001b[39;00m ioargs\u001b[38;5;241m.\u001b[39mencoding \u001b[38;5;129;01mand\u001b[39;00m \u001b[38;5;124m\"\u001b[39m\u001b[38;5;124mb\u001b[39m\u001b[38;5;124m\"\u001b[39m \u001b[38;5;129;01mnot\u001b[39;00m \u001b[38;5;129;01min\u001b[39;00m ioargs\u001b[38;5;241m.\u001b[39mmode:\n\u001b[0;32m    862\u001b[0m         \u001b[38;5;66;03m# Encoding\u001b[39;00m\n\u001b[1;32m--> 863\u001b[0m         handle \u001b[38;5;241m=\u001b[39m \u001b[38;5;28mopen\u001b[39m(\n\u001b[0;32m    864\u001b[0m             handle,\n\u001b[0;32m    865\u001b[0m             ioargs\u001b[38;5;241m.\u001b[39mmode,\n\u001b[0;32m    866\u001b[0m             encoding\u001b[38;5;241m=\u001b[39mioargs\u001b[38;5;241m.\u001b[39mencoding,\n\u001b[0;32m    867\u001b[0m             errors\u001b[38;5;241m=\u001b[39merrors,\n\u001b[0;32m    868\u001b[0m             newline\u001b[38;5;241m=\u001b[39m\u001b[38;5;124m\"\u001b[39m\u001b[38;5;124m\"\u001b[39m,\n\u001b[0;32m    869\u001b[0m         )\n\u001b[0;32m    870\u001b[0m     \u001b[38;5;28;01melse\u001b[39;00m:\n\u001b[0;32m    871\u001b[0m         \u001b[38;5;66;03m# Binary mode\u001b[39;00m\n\u001b[0;32m    872\u001b[0m         handle \u001b[38;5;241m=\u001b[39m \u001b[38;5;28mopen\u001b[39m(handle, ioargs\u001b[38;5;241m.\u001b[39mmode)\n",
      "\u001b[1;31mPermissionError\u001b[0m: [Errno 13] Permission denied: 'C:\\\\Users\\\\hp\\\\Desktop\\\\Web Scraping\\\\index_data.csv'"
     ]
    }
   ],
   "source": [
    "while True:\n",
    "    gather_data()\n",
    "    df.to_csv(r\"C:\\Users\\hp\\Desktop\\Web Scraping\\index_data.csv\", index=False)\n",
    "    print(\"Data gathered and saved.\")\n",
    "    time.sleep(86400)"
   ]
  },
  {
   "cell_type": "code",
   "execution_count": null,
   "id": "12d70a04-4f8e-4243-b06f-d35d2bdf2464",
   "metadata": {},
   "outputs": [],
   "source": []
  },
  {
   "cell_type": "code",
   "execution_count": null,
   "id": "420bba68-bdbe-44cd-bfef-08e64598cc90",
   "metadata": {},
   "outputs": [],
   "source": []
  },
  {
   "cell_type": "code",
   "execution_count": null,
   "id": "2f97e666-aee7-458b-aded-0b8a9d98b112",
   "metadata": {},
   "outputs": [],
   "source": []
  },
  {
   "cell_type": "code",
   "execution_count": null,
   "id": "02d65ca8-c642-40e0-a3c6-fa6f4ef572dd",
   "metadata": {},
   "outputs": [],
   "source": []
  }
 ],
 "metadata": {
  "kernelspec": {
   "display_name": "Python 3 (ipykernel)",
   "language": "python",
   "name": "python3"
  },
  "language_info": {
   "codemirror_mode": {
    "name": "ipython",
    "version": 3
   },
   "file_extension": ".py",
   "mimetype": "text/x-python",
   "name": "python",
   "nbconvert_exporter": "python",
   "pygments_lexer": "ipython3",
   "version": "3.11.7"
  }
 },
 "nbformat": 4,
 "nbformat_minor": 5
}
