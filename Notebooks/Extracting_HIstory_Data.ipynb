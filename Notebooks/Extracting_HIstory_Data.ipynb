{
 "cells": [
  {
   "cell_type": "markdown",
   "id": "ca5bb0b2-d0f4-43d7-a303-8a9ba900175d",
   "metadata": {},
   "source": [
    "# Scraping Historical Data"
   ]
  },
  {
   "cell_type": "code",
   "execution_count": 227,
   "id": "eaa97847-7617-4788-8915-f7a5fb6cefd2",
   "metadata": {},
   "outputs": [],
   "source": [
    "import pandas as pd\n",
    "import matplotlib\n",
    "import numpy as np\n",
    "from bs4 import BeautifulSoup\n",
    "import requests\n",
    "import datetime\n",
    "import seaborn as sns\n",
    "import matplotlib.pyplot as plt"
   ]
  },
  {
   "cell_type": "code",
   "execution_count": 181,
   "id": "cb1b801b-04ad-418c-a274-c11182a03218",
   "metadata": {},
   "outputs": [],
   "source": [
    "URL = 'https://finance.yahoo.com/quote/%5EGSPC/history/?frequency=1mo&period1=-1325583000&period2=1720977792'\n",
    "headers = {\"User-Agent\": \"Mozilla/5.0 (Windows NT 10.0; Win64; x64) AppleWebKit/537.36 (KHTML, like Gecko) Chrome/126.0.0.0 Safari/537.36\"}"
   ]
  },
  {
   "cell_type": "code",
   "execution_count": 182,
   "id": "5dd41dc1-0502-4638-abe5-133495a7c839",
   "metadata": {},
   "outputs": [],
   "source": [
    "page = requests.get(URL, headers = headers)\n",
    "soup = BeautifulSoup(page.text, 'html')\n",
    "soup = BeautifulSoup(soup.prettify(), 'html')"
   ]
  },
  {
   "cell_type": "markdown",
   "id": "b0c86170-8fd5-41db-8c0b-36b395febd1e",
   "metadata": {},
   "source": [
    "### Extracting the header columns of the table"
   ]
  },
  {
   "cell_type": "code",
   "execution_count": 204,
   "id": "d9ef8c41-b43e-40f5-ad83-9219e7c17dd6",
   "metadata": {},
   "outputs": [],
   "source": [
    "head=[]\n",
    "Titles = soup.find_all('th',class_ = 'svelte-ewueuo')\n",
    "for title in Titles[:4] :\n",
    "    temp = title.text.split()\n",
    "    head.append(temp[0])\n",
    "\n",
    "Titles = soup.find_all('th',class_ = 'svelte-ewueuo')[4]\n",
    "Titles = Titles.text.strip().split('\\n')\n",
    "Titles=Titles[0]\n",
    "head.append(Titles)\n",
    "\n",
    "Titles = soup.find_all('th',class_ = 'svelte-ewueuo')[5]\n",
    "Titles = Titles.text.strip().split('\\n')\n",
    "Titles=Titles[0]\n",
    "head.append(Titles)\n",
    "\n",
    "Titles = soup.find_all('th',class_ = 'svelte-ewueuo')[6]\n",
    "Titles = Titles.text.strip().split('\\n')\n",
    "Titles=Titles[0]\n",
    "head.append(Titles)\n"
   ]
  },
  {
   "cell_type": "code",
   "execution_count": 218,
   "id": "1d73cb13-1314-436b-be74-c276f2f6d59c",
   "metadata": {},
   "outputs": [
    {
     "data": {
      "text/plain": [
       "['Date', 'Open', 'High', 'Low', 'Close', 'Adj Close', 'Volume']"
      ]
     },
     "execution_count": 218,
     "metadata": {},
     "output_type": "execute_result"
    }
   ],
   "source": [
    "head"
   ]
  },
  {
   "cell_type": "markdown",
   "id": "ad885347-ceb6-48d2-bf49-bf59902c5092",
   "metadata": {},
   "source": [
    "### Extracting the row data"
   ]
  },
  {
   "cell_type": "code",
   "execution_count": 219,
   "id": "135ee87b-c34f-4f56-bb4b-bac58f219be6",
   "metadata": {},
   "outputs": [],
   "source": [
    "row_list = []"
   ]
  },
  {
   "cell_type": "code",
   "execution_count": 220,
   "id": "e5cca3c2-2aad-40d1-948f-518c379c769d",
   "metadata": {},
   "outputs": [],
   "source": [
    "index = 2  # Starting index\n",
    "\n",
    "while True:\n",
    "    rows = soup.find_all('tr', class_='svelte-ewueuo')\n",
    "    \n",
    "    if index < len(rows):\n",
    "        row = rows[index].text.strip()\n",
    "        clean_rows = [row.strip() for row in row.split('\\n\\n') if row.strip()]\n",
    "        if not clean_rows:\n",
    "            break\n",
    "        row_list.append(clean_rows)\n",
    "        index += 1\n",
    "    else:\n",
    "        break\n"
   ]
  },
  {
   "cell_type": "code",
   "execution_count": null,
   "id": "b94326d2-c29a-4d57-8ca1-bb505db909b6",
   "metadata": {},
   "outputs": [],
   "source": []
  },
  {
   "cell_type": "code",
   "execution_count": 221,
   "id": "abde52f9-af79-4756-9100-edef0125d028",
   "metadata": {},
   "outputs": [],
   "source": [
    "df = pd.DataFrame(row_list,columns = head)"
   ]
  },
  {
   "cell_type": "markdown",
   "id": "60b3efd5-860c-4f23-9712-21f851659efa",
   "metadata": {},
   "source": [
    "#### We have the table, but we do not have the desired data types required for table manipulation "
   ]
  },
  {
   "cell_type": "code",
   "execution_count": 222,
   "id": "c961fbe3-a33f-4d54-bead-afd2f9d317da",
   "metadata": {},
   "outputs": [
    {
     "data": {
      "text/html": [
       "<div>\n",
       "<style scoped>\n",
       "    .dataframe tbody tr th:only-of-type {\n",
       "        vertical-align: middle;\n",
       "    }\n",
       "\n",
       "    .dataframe tbody tr th {\n",
       "        vertical-align: top;\n",
       "    }\n",
       "\n",
       "    .dataframe thead th {\n",
       "        text-align: right;\n",
       "    }\n",
       "</style>\n",
       "<table border=\"1\" class=\"dataframe\">\n",
       "  <thead>\n",
       "    <tr style=\"text-align: right;\">\n",
       "      <th></th>\n",
       "      <th>Date</th>\n",
       "      <th>Open</th>\n",
       "      <th>High</th>\n",
       "      <th>Low</th>\n",
       "      <th>Close</th>\n",
       "      <th>Adj Close</th>\n",
       "      <th>Volume</th>\n",
       "    </tr>\n",
       "  </thead>\n",
       "  <tbody>\n",
       "    <tr>\n",
       "      <th>0</th>\n",
       "      <td>Jun 1, 2024</td>\n",
       "      <td>5,297.15</td>\n",
       "      <td>5,523.64</td>\n",
       "      <td>5,234.32</td>\n",
       "      <td>5,460.48</td>\n",
       "      <td>5,460.48</td>\n",
       "      <td>76,025,620,000</td>\n",
       "    </tr>\n",
       "    <tr>\n",
       "      <th>1</th>\n",
       "      <td>May 1, 2024</td>\n",
       "      <td>5,029.03</td>\n",
       "      <td>5,341.88</td>\n",
       "      <td>5,011.05</td>\n",
       "      <td>5,277.51</td>\n",
       "      <td>5,277.51</td>\n",
       "      <td>86,849,720,000</td>\n",
       "    </tr>\n",
       "    <tr>\n",
       "      <th>2</th>\n",
       "      <td>Apr 1, 2024</td>\n",
       "      <td>5,257.97</td>\n",
       "      <td>5,263.95</td>\n",
       "      <td>4,953.56</td>\n",
       "      <td>5,035.69</td>\n",
       "      <td>5,035.69</td>\n",
       "      <td>81,747,170,000</td>\n",
       "    </tr>\n",
       "    <tr>\n",
       "      <th>3</th>\n",
       "      <td>Mar 1, 2024</td>\n",
       "      <td>5,098.51</td>\n",
       "      <td>5,264.85</td>\n",
       "      <td>5,056.82</td>\n",
       "      <td>5,254.35</td>\n",
       "      <td>5,254.35</td>\n",
       "      <td>86,299,510,000</td>\n",
       "    </tr>\n",
       "    <tr>\n",
       "      <th>4</th>\n",
       "      <td>Feb 1, 2024</td>\n",
       "      <td>4,861.11</td>\n",
       "      <td>5,111.06</td>\n",
       "      <td>4,853.52</td>\n",
       "      <td>5,096.27</td>\n",
       "      <td>5,096.27</td>\n",
       "      <td>82,066,930,000</td>\n",
       "    </tr>\n",
       "    <tr>\n",
       "      <th>...</th>\n",
       "      <td>...</td>\n",
       "      <td>...</td>\n",
       "      <td>...</td>\n",
       "      <td>...</td>\n",
       "      <td>...</td>\n",
       "      <td>...</td>\n",
       "      <td>...</td>\n",
       "    </tr>\n",
       "    <tr>\n",
       "      <th>469</th>\n",
       "      <td>May 1, 1985</td>\n",
       "      <td>179.83</td>\n",
       "      <td>189.98</td>\n",
       "      <td>178.35</td>\n",
       "      <td>189.55</td>\n",
       "      <td>189.55</td>\n",
       "      <td>2,350,340,000</td>\n",
       "    </tr>\n",
       "    <tr>\n",
       "      <th>470</th>\n",
       "      <td>Apr 1, 1985</td>\n",
       "      <td>180.66</td>\n",
       "      <td>183.61</td>\n",
       "      <td>177.86</td>\n",
       "      <td>179.83</td>\n",
       "      <td>179.83</td>\n",
       "      <td>1,981,880,000</td>\n",
       "    </tr>\n",
       "    <tr>\n",
       "      <th>471</th>\n",
       "      <td>Mar 1, 1985</td>\n",
       "      <td>181.18</td>\n",
       "      <td>183.89</td>\n",
       "      <td>176.53</td>\n",
       "      <td>180.66</td>\n",
       "      <td>180.66</td>\n",
       "      <td>2,153,090,000</td>\n",
       "    </tr>\n",
       "    <tr>\n",
       "      <th>472</th>\n",
       "      <td>Feb 1, 1985</td>\n",
       "      <td>179.63</td>\n",
       "      <td>183.95</td>\n",
       "      <td>177.75</td>\n",
       "      <td>181.18</td>\n",
       "      <td>181.18</td>\n",
       "      <td>2,194,620,000</td>\n",
       "    </tr>\n",
       "    <tr>\n",
       "      <th>473</th>\n",
       "      <td>Jan 1, 1985</td>\n",
       "      <td>167.20</td>\n",
       "      <td>180.27</td>\n",
       "      <td>163.36</td>\n",
       "      <td>179.63</td>\n",
       "      <td>179.63</td>\n",
       "      <td>2,673,710,000</td>\n",
       "    </tr>\n",
       "  </tbody>\n",
       "</table>\n",
       "<p>474 rows × 7 columns</p>\n",
       "</div>"
      ],
      "text/plain": [
       "            Date      Open      High       Low     Close Adj Close  \\\n",
       "0    Jun 1, 2024  5,297.15  5,523.64  5,234.32  5,460.48  5,460.48   \n",
       "1    May 1, 2024  5,029.03  5,341.88  5,011.05  5,277.51  5,277.51   \n",
       "2    Apr 1, 2024  5,257.97  5,263.95  4,953.56  5,035.69  5,035.69   \n",
       "3    Mar 1, 2024  5,098.51  5,264.85  5,056.82  5,254.35  5,254.35   \n",
       "4    Feb 1, 2024  4,861.11  5,111.06  4,853.52  5,096.27  5,096.27   \n",
       "..           ...       ...       ...       ...       ...       ...   \n",
       "469  May 1, 1985    179.83    189.98    178.35    189.55    189.55   \n",
       "470  Apr 1, 1985    180.66    183.61    177.86    179.83    179.83   \n",
       "471  Mar 1, 1985    181.18    183.89    176.53    180.66    180.66   \n",
       "472  Feb 1, 1985    179.63    183.95    177.75    181.18    181.18   \n",
       "473  Jan 1, 1985    167.20    180.27    163.36    179.63    179.63   \n",
       "\n",
       "             Volume  \n",
       "0    76,025,620,000  \n",
       "1    86,849,720,000  \n",
       "2    81,747,170,000  \n",
       "3    86,299,510,000  \n",
       "4    82,066,930,000  \n",
       "..              ...  \n",
       "469   2,350,340,000  \n",
       "470   1,981,880,000  \n",
       "471   2,153,090,000  \n",
       "472   2,194,620,000  \n",
       "473   2,673,710,000  \n",
       "\n",
       "[474 rows x 7 columns]"
      ]
     },
     "execution_count": 222,
     "metadata": {},
     "output_type": "execute_result"
    }
   ],
   "source": [
    "df"
   ]
  },
  {
   "cell_type": "code",
   "execution_count": 223,
   "id": "4fa26e3c-3ff7-4765-89c7-edb4d1fc9373",
   "metadata": {},
   "outputs": [
    {
     "data": {
      "text/plain": [
       "Date         object\n",
       "Open         object\n",
       "High         object\n",
       "Low          object\n",
       "Close        object\n",
       "Adj Close    object\n",
       "Volume       object\n",
       "dtype: object"
      ]
     },
     "execution_count": 223,
     "metadata": {},
     "output_type": "execute_result"
    }
   ],
   "source": [
    "df.dtypes"
   ]
  },
  {
   "cell_type": "code",
   "execution_count": 224,
   "id": "8f7ccacc-df43-4b1d-ad93-34b7ff91c45f",
   "metadata": {},
   "outputs": [],
   "source": [
    "df['Date'] = df['Date'].astype('datetime64[ns]')"
   ]
  },
  {
   "cell_type": "code",
   "execution_count": 225,
   "id": "2d39ea47-a98e-43f0-a7a6-ff9c3d85cb2e",
   "metadata": {},
   "outputs": [
    {
     "data": {
      "text/html": [
       "<div>\n",
       "<style scoped>\n",
       "    .dataframe tbody tr th:only-of-type {\n",
       "        vertical-align: middle;\n",
       "    }\n",
       "\n",
       "    .dataframe tbody tr th {\n",
       "        vertical-align: top;\n",
       "    }\n",
       "\n",
       "    .dataframe thead th {\n",
       "        text-align: right;\n",
       "    }\n",
       "</style>\n",
       "<table border=\"1\" class=\"dataframe\">\n",
       "  <thead>\n",
       "    <tr style=\"text-align: right;\">\n",
       "      <th></th>\n",
       "      <th>Date</th>\n",
       "      <th>Open</th>\n",
       "      <th>High</th>\n",
       "      <th>Low</th>\n",
       "      <th>Close</th>\n",
       "      <th>Adj Close</th>\n",
       "      <th>Volume</th>\n",
       "    </tr>\n",
       "  </thead>\n",
       "  <tbody>\n",
       "    <tr>\n",
       "      <th>0</th>\n",
       "      <td>2024-06-01</td>\n",
       "      <td>5297.15</td>\n",
       "      <td>5523.64</td>\n",
       "      <td>5234.32</td>\n",
       "      <td>5460.48</td>\n",
       "      <td>5460.48</td>\n",
       "      <td>76025620000</td>\n",
       "    </tr>\n",
       "    <tr>\n",
       "      <th>1</th>\n",
       "      <td>2024-05-01</td>\n",
       "      <td>5029.03</td>\n",
       "      <td>5341.88</td>\n",
       "      <td>5011.05</td>\n",
       "      <td>5277.51</td>\n",
       "      <td>5277.51</td>\n",
       "      <td>86849720000</td>\n",
       "    </tr>\n",
       "    <tr>\n",
       "      <th>2</th>\n",
       "      <td>2024-04-01</td>\n",
       "      <td>5257.97</td>\n",
       "      <td>5263.95</td>\n",
       "      <td>4953.56</td>\n",
       "      <td>5035.69</td>\n",
       "      <td>5035.69</td>\n",
       "      <td>81747170000</td>\n",
       "    </tr>\n",
       "    <tr>\n",
       "      <th>3</th>\n",
       "      <td>2024-03-01</td>\n",
       "      <td>5098.51</td>\n",
       "      <td>5264.85</td>\n",
       "      <td>5056.82</td>\n",
       "      <td>5254.35</td>\n",
       "      <td>5254.35</td>\n",
       "      <td>86299510000</td>\n",
       "    </tr>\n",
       "    <tr>\n",
       "      <th>4</th>\n",
       "      <td>2024-02-01</td>\n",
       "      <td>4861.11</td>\n",
       "      <td>5111.06</td>\n",
       "      <td>4853.52</td>\n",
       "      <td>5096.27</td>\n",
       "      <td>5096.27</td>\n",
       "      <td>82066930000</td>\n",
       "    </tr>\n",
       "    <tr>\n",
       "      <th>...</th>\n",
       "      <td>...</td>\n",
       "      <td>...</td>\n",
       "      <td>...</td>\n",
       "      <td>...</td>\n",
       "      <td>...</td>\n",
       "      <td>...</td>\n",
       "      <td>...</td>\n",
       "    </tr>\n",
       "    <tr>\n",
       "      <th>469</th>\n",
       "      <td>1985-05-01</td>\n",
       "      <td>179.83</td>\n",
       "      <td>189.98</td>\n",
       "      <td>178.35</td>\n",
       "      <td>189.55</td>\n",
       "      <td>189.55</td>\n",
       "      <td>2350340000</td>\n",
       "    </tr>\n",
       "    <tr>\n",
       "      <th>470</th>\n",
       "      <td>1985-04-01</td>\n",
       "      <td>180.66</td>\n",
       "      <td>183.61</td>\n",
       "      <td>177.86</td>\n",
       "      <td>179.83</td>\n",
       "      <td>179.83</td>\n",
       "      <td>1981880000</td>\n",
       "    </tr>\n",
       "    <tr>\n",
       "      <th>471</th>\n",
       "      <td>1985-03-01</td>\n",
       "      <td>181.18</td>\n",
       "      <td>183.89</td>\n",
       "      <td>176.53</td>\n",
       "      <td>180.66</td>\n",
       "      <td>180.66</td>\n",
       "      <td>2153090000</td>\n",
       "    </tr>\n",
       "    <tr>\n",
       "      <th>472</th>\n",
       "      <td>1985-02-01</td>\n",
       "      <td>179.63</td>\n",
       "      <td>183.95</td>\n",
       "      <td>177.75</td>\n",
       "      <td>181.18</td>\n",
       "      <td>181.18</td>\n",
       "      <td>2194620000</td>\n",
       "    </tr>\n",
       "    <tr>\n",
       "      <th>473</th>\n",
       "      <td>1985-01-01</td>\n",
       "      <td>167.20</td>\n",
       "      <td>180.27</td>\n",
       "      <td>163.36</td>\n",
       "      <td>179.63</td>\n",
       "      <td>179.63</td>\n",
       "      <td>2673710000</td>\n",
       "    </tr>\n",
       "  </tbody>\n",
       "</table>\n",
       "<p>474 rows × 7 columns</p>\n",
       "</div>"
      ],
      "text/plain": [
       "          Date     Open     High      Low    Close  Adj Close       Volume\n",
       "0   2024-06-01  5297.15  5523.64  5234.32  5460.48    5460.48  76025620000\n",
       "1   2024-05-01  5029.03  5341.88  5011.05  5277.51    5277.51  86849720000\n",
       "2   2024-04-01  5257.97  5263.95  4953.56  5035.69    5035.69  81747170000\n",
       "3   2024-03-01  5098.51  5264.85  5056.82  5254.35    5254.35  86299510000\n",
       "4   2024-02-01  4861.11  5111.06  4853.52  5096.27    5096.27  82066930000\n",
       "..         ...      ...      ...      ...      ...        ...          ...\n",
       "469 1985-05-01   179.83   189.98   178.35   189.55     189.55   2350340000\n",
       "470 1985-04-01   180.66   183.61   177.86   179.83     179.83   1981880000\n",
       "471 1985-03-01   181.18   183.89   176.53   180.66     180.66   2153090000\n",
       "472 1985-02-01   179.63   183.95   177.75   181.18     181.18   2194620000\n",
       "473 1985-01-01   167.20   180.27   163.36   179.63     179.63   2673710000\n",
       "\n",
       "[474 rows x 7 columns]"
      ]
     },
     "execution_count": 225,
     "metadata": {},
     "output_type": "execute_result"
    }
   ],
   "source": [
    "for col in columns_to_float:\n",
    "    df[col] = df[col].astype(str).str.replace(',', '').astype(float)\n",
    "\n",
    "df['Volume'] = df['Volume'].astype(str).str.replace(',', '').astype('Int64')\n",
    "\n",
    "df\n"
   ]
  },
  {
   "cell_type": "code",
   "execution_count": null,
   "id": "0bfc033a-769f-4b05-9129-4421be9e21b1",
   "metadata": {},
   "outputs": [],
   "source": [
    "df"
   ]
  },
  {
   "cell_type": "code",
   "execution_count": 237,
   "id": "6895f1b6-b8e8-4ceb-9ff6-466ec6de3fc9",
   "metadata": {},
   "outputs": [],
   "source": [
    "page = requests.get(URL, headers = headers)\n",
    "soup = BeautifulSoup(page.text, 'html')\n",
    "soup = BeautifulSoup(soup.prettify(), 'html')"
   ]
  },
  {
   "cell_type": "code",
   "execution_count": 236,
   "id": "232a770b-22dc-483a-8946-78d6982fd40b",
   "metadata": {},
   "outputs": [
    {
     "data": {
      "image/png": "[encoded data removed]",
      "text/plain": [
       "<Figure size 1000x600 with 1 Axes>"
      ]
     },
     "metadata": {},
     "output_type": "display_data"
    }
   ],
   "source": [
    "plt.figure(figsize=(10, 6))\n",
    "plt.plot(df['Date'], df['Adj Close'], linestyle='-', color='b', label='Value')\n",
    "plt.title('Line Plot of Value over Time')\n",
    "plt.xlabel('Date')\n",
    "plt.ylabel('Close $')\n",
    "plt.grid(True)\n",
    "plt.legend()\n",
    "plt.tight_layout()\n",
    "plt.show()"
   ]
  },
  {
   "cell_type": "markdown",
   "id": "52b0bb2d-f0fa-4faa-8de0-1b510315cea7",
   "metadata": {},
   "source": []
  },
  {
   "cell_type": "code",
   "execution_count": null,
   "id": "a2e99039-0652-47f3-9063-744d70aceb4e",
   "metadata": {},
   "outputs": [],
   "source": []
  },
  {
   "cell_type": "code",
   "execution_count": null,
   "id": "2c32a2a6-9f9e-4286-97a0-634945e18432",
   "metadata": {},
   "outputs": [],
   "source": []
  },
  {
   "cell_type": "code",
   "execution_count": null,
   "id": "836673de-ad72-4146-b553-785ee6f19bec",
   "metadata": {},
   "outputs": [],
   "source": []
  }
 ],
 "metadata": {
  "kernelspec": {
   "display_name": "Python 3 (ipykernel)",
   "language": "python",
   "name": "python3"
  },
  "language_info": {
   "codemirror_mode": {
    "name": "ipython",
    "version": 3
   },
   "file_extension": ".py",
   "mimetype": "text/x-python",
   "name": "python",
   "nbconvert_exporter": "python",
   "pygments_lexer": "ipython3",
   "version": "3.11.7"
  }
 },
 "nbformat": 4,
 "nbformat_minor": 5
}
